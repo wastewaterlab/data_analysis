{
 "cells": [
  {
   "cell_type": "markdown",
   "metadata": {},
   "source": [
    "## Need to be running a python  version that works with outlier_utils"
   ]
  },
  {
   "cell_type": "markdown",
   "metadata": {},
   "source": [
    "[Resource](https://www.alfredo.motta.name/create-isolated-jupyter-ipython-kernels-with-pyenv-and-virtualenv/) for having multiple versions of python + Jupyter. The colab version is 3.6.9 but not an option in pyenv so went with 3.6.8"
   ]
  },
  {
   "cell_type": "code",
   "execution_count": null,
   "metadata": {},
   "outputs": [],
   "source": [
    "from platform import python_version\n",
    "\n",
    "print(python_version())"
   ]
  },
  {
   "cell_type": "markdown",
   "metadata": {},
   "source": [
    "## Update path_j based on user & install packages"
   ]
  },
  {
   "cell_type": "code",
   "execution_count": null,
   "metadata": {},
   "outputs": [],
   "source": [
    "#google drive authorize AND googlesheets4 authorize-- must create a project under google API and then download credentials\n",
    "#see authentication section in the following article\n",
    "#https://medium.com/@bretcameron/how-to-use-the-google-drive-api-with-javascript-57a6cc9e5262\n",
    "#Note: need to open a service account and extract .json credentials in the API console, approve Google Drive API, then share the service account email address with the sheet of interest\n",
    "path_j='/Users/owner/Desktop/Berkeley_Work/Projects/2017_San_Diego/June 2018_Data_Analysis/access-via-jupiter-notebook-d18b3ab0993b.json' #lauren's\n",
    "\n",
    "\n",
    "#need  to do the following  in the activated virtual environment\n",
    "# !pip install gspread\n",
    "# !pip install oauth2client\n",
    "# !pip install outliers\n",
    "# !pip install plotnine\n",
    "# !pip install scikit-misc\n",
    "# !pip install outlier_utils\n",
    "# !pip install pandas\n",
    "# !pip  install numpy\n",
    "# !pip install sklearn"
   ]
  },
  {
   "cell_type": "code",
   "execution_count": 3,
   "metadata": {},
   "outputs": [
    {
     "ename": "NameError",
     "evalue": "name 'credentials' is not defined",
     "output_type": "error",
     "traceback": [
      "\u001b[0;31m---------------------------------------------------------------------------\u001b[0m",
      "\u001b[0;31mNameError\u001b[0m                                 Traceback (most recent call last)",
      "\u001b[0;32m<ipython-input-3-72e39e38d2de>\u001b[0m in \u001b[0;36m<module>\u001b[0;34m\u001b[0m\n\u001b[1;32m     20\u001b[0m \u001b[0;34m\u001b[0m\u001b[0m\n\u001b[1;32m     21\u001b[0m \u001b[0;31m#Authorize credentials and open master sampling table using its URL\u001b[0m\u001b[0;34m\u001b[0m\u001b[0;34m\u001b[0m\u001b[0;34m\u001b[0m\u001b[0m\n\u001b[0;32m---> 22\u001b[0;31m \u001b[0mgc\u001b[0m \u001b[0;34m=\u001b[0m \u001b[0mgspread\u001b[0m\u001b[0;34m.\u001b[0m\u001b[0mauthorize\u001b[0m\u001b[0;34m(\u001b[0m\u001b[0mcredentials\u001b[0m\u001b[0;34m)\u001b[0m\u001b[0;34m\u001b[0m\u001b[0;34m\u001b[0m\u001b[0m\n\u001b[0m\u001b[1;32m     23\u001b[0m \u001b[0;31m# routine= gc.open_by_url('https://docs.google.com/spreadsheets/d/163xXZnJjh0LdryxrDhuYxgzHB_IY7Jaew3DpYzoNs9Q/edit#gid=1255279898')\u001b[0m\u001b[0;34m\u001b[0m\u001b[0;34m\u001b[0m\u001b[0;34m\u001b[0m\u001b[0m\n\u001b[1;32m     24\u001b[0m \u001b[0;31m# qpcr=gc.open_by_url('https://docs.google.com/spreadsheets/d/1TzZcB2p55BuG5FbXAA44EFoe8BdRapGyDaVR4hx9NXU/edit#gid=1689469809')\u001b[0m\u001b[0;34m\u001b[0m\u001b[0;34m\u001b[0m\u001b[0;34m\u001b[0m\u001b[0m\n",
      "\u001b[0;31mNameError\u001b[0m: name 'credentials' is not defined"
     ]
    }
   ],
   "source": [
    "import sys\n",
    "import os\n",
    "from os import path\n",
    "from datetime import date\n",
    "import math\n",
    "import warnings\n",
    "import pandas as pd\n",
    "from pandas.api.types import CategoricalDtype\n",
    "import numpy as np\n",
    "import matplotlib.pyplot as plt\n",
    "from sklearn.linear_model import LinearRegression\n",
    "from plotnine import *\n",
    "from scipy import stats\n",
    "from scipy.stats import linregress\n",
    "import gspread\n",
    "from mizani.formatters import scientific_format\n",
    "\n",
    "%matplotlib inline\n",
    "\n",
    "import gspread\n",
    "from oauth2client.service_account import ServiceAccountCredentials\n",
    "scope = ['https://spreadsheets.google.com/feeds']\n",
    "credentials = ServiceAccountCredentials.from_json_keyfile_name(path_j, scope)\n",
    "#Authorize credentials and open master sampling table using its URL\n",
    "gc = gspread.authorize(credentials)\n",
    "# routine= gc.open_by_url('https://docs.google.com/spreadsheets/d/163xXZnJjh0LdryxrDhuYxgzHB_IY7Jaew3DpYzoNs9Q/edit#gid=1255279898')\n",
    "# qpcr=gc.open_by_url('https://docs.google.com/spreadsheets/d/1TzZcB2p55BuG5FbXAA44EFoe8BdRapGyDaVR4hx9NXU/edit#gid=1689469809')\n",
    "import skmisc\n",
    "import outliers\n",
    "\n",
    "# read in custom modules\n",
    "from read_gsheets import * \n",
    "from reprocess_qpcr import *\n",
    "from calculations import *\n",
    "from qa_qc import *\n",
    "\n",
    "#urls\n",
    "samples_url = 'https://docs.google.com/spreadsheets/d/163xXZnJjh0LdryxrDhuYxgzHB_IY7Jaew3DpYzoNs9Q'\n",
    "qpcr_url = 'https://docs.google.com/spreadsheets/d/1TzZcB2p55BuG5FbXAA44EFoe8BdRapGyDaVR4hx9NXU'\n",
    "\n",
    "#sheets\n",
    "rna_tab = 'sample_inventory'\n",
    "ww_tab='site_lookup'\n",
    "facility_lookup='site_lookup'\n",
    "qpcr_results_tab = 'QuantStudio_raw_data'\n",
    "qpcr_plates_tab = 'Plate_info'"
   ]
  },
  {
   "cell_type": "code",
   "execution_count": null,
   "metadata": {},
   "outputs": [],
   "source": [
    "# read in data\n",
    "sample_data = read_sample_data(gc, samples_url, rna_tab, facility_lookup)\n",
    "qpcr_raw = read_qpcr_data(gc, qpcr_url, qpcr_results_tab, qpcr_plates_tab)\n",
    "qpcr_processed, std_curve_df, raw_outliers_flagged_df = process_qpcr_raw(qpcr_raw, 'grubbs_only')\n",
    "\n",
    "# merge with sample data and remove NTCs and Xeno from averaged data\n",
    "qpcr_averaged = qpcr_processed.merge(sample_data, how='left', left_on='Sample', right_on='sample_id')\n",
    "qpcr_averaged = qpcr_averaged[(qpcr_averaged.Sample != 'NTC') &\n",
    "                              (qpcr_averaged.Target != 'Xeno')]\n",
    "# calculations\n",
    "qpcr_averaged['gc_per_L'] = calculate_gc_per_l(qpcr_averaged) # get gc/L\n",
    "qpcr_normd = normalize_to_pmmov(qpcr_averaged)\n",
    "#qpcr_normd = get_GFP_recovery(qpcr_normd) # this converts dates to numeric somehow\n",
    "\n",
    "## Filter out research batches\n",
    "qpcr_normd = qpcr_normd[~(qpcr_normd['batch'].str.contains(\"B\", na=True)) &\n",
    "                        ~(qpcr_normd['batch'].str.contains(\"V\", na=True))].copy()\n",
    "\n",
    "# make 'PBS_result' column and remove extraction controls from main dataset\n",
    "qpcr_normd = get_extraction_control(qpcr_normd)"
   ]
  },
  {
   "cell_type": "code",
   "execution_count": null,
   "metadata": {},
   "outputs": [],
   "source": [
    "xeno_inhib_full, xeno_control=xeno_inhibition_test(raw_outliers_flagged_df)\n",
    "\n",
    "xeno_inhib=xeno_inhib_full.merge(sample_data, left_on='Sample', right_on='sample_id',  how='left').copy()\n",
    "inhibited=xeno_inhib[xeno_inhib.dCt>1].Sample.unique()\n",
    "not_inhibited=xeno_inhib[xeno_inhib.dCt<=1].Sample.unique()\n",
    "\n",
    "qpcr_normd[\"is_inhibited\"]='unknown'\n",
    "qpcr_normd.loc[qpcr_normd.Sample.isin(inhibited),\"is_inhibited\"]=\"Yes\"\n",
    "qpcr_normd.loc[qpcr_normd.Sample.isin(not_inhibited),\"is_inhibited\"]=\"No\""
   ]
  },
  {
   "cell_type": "code",
   "execution_count": null,
   "metadata": {},
   "outputs": [],
   "source": [
    "qpcr_averaged_merged.head()"
   ]
  }
 ],
 "metadata": {
  "kernelspec": {
   "display_name": "py3.6.8_outlier_utils",
   "language": "python",
   "name": "py3.6.8_outlierutils"
  },
  "language_info": {
   "codemirror_mode": {
    "name": "ipython",
    "version": 3
   },
   "file_extension": ".py",
   "mimetype": "text/x-python",
   "name": "python",
   "nbconvert_exporter": "python",
   "pygments_lexer": "ipython3",
   "version": "3.6.8"
  }
 },
 "nbformat": 4,
 "nbformat_minor": 4
}
